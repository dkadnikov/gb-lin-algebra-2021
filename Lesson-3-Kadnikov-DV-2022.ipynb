{
  "cells": [
    {
      "cell_type": "code",
      "execution_count": null,
      "metadata": {
        "id": "p3keY6LPRlCI"
      },
      "outputs": [],
      "source": [
        "import numpy as np"
      ]
    },
    {
      "cell_type": "markdown",
      "metadata": {
        "id": "M4NcRL9nRlCN"
      },
      "source": [
        "## Задание 1"
      ]
    },
    {
      "cell_type": "markdown",
      "metadata": {
        "id": "9T_IJTs6RlCO"
      },
      "source": [
        "Найти собственные векторы и собственные значения для линейного оператора, заданного матрицей\n",
        "\n",
        "$$A=\\begin{pmatrix}\n",
        "-1 & -6\\\\ \n",
        "2 & 6\n",
        "\\end{pmatrix}.$$"
      ]
    },
    {
      "cell_type": "markdown",
      "metadata": {
        "id": "2pIy7XYeRlCP"
      },
      "source": [
        "### Решение"
      ]
    },
    {
      "cell_type": "markdown",
      "metadata": {
        "id": "3jkhul5FRlCP"
      },
      "source": [
        "$$\\begin{pmatrix}\n",
        "-1 & -6\\\\ \n",
        "2 & 6\n",
        "\\end{pmatrix}\n",
        "\\begin{pmatrix}\n",
        "b_1 \\\\\n",
        "b_2\n",
        "\\end{pmatrix}=\n",
        "\\lambda\\cdot\n",
        "\\begin{pmatrix}\n",
        "b_1 \\\\\n",
        "b_2\n",
        "\\end{pmatrix}$$"
      ]
    },
    {
      "cell_type": "markdown",
      "metadata": {
        "id": "X3T6sxmoRlCQ"
      },
      "source": [
        "$\n",
        "\\begin{cases}\n",
        "-b_1 - 6b_2 = \\lambda b_1 \\\\\n",
        "2b_1 + 6b_2 = \\lambda b_2\n",
        "\\end{cases}\n",
        "\\implies\n",
        "\\begin{cases}\n",
        "b_1 = -\\frac{6b_2}{\\lambda + 1} \\\\\n",
        "-\\frac{12b_2}{\\lambda + 1} + 6b_2 = \\lambda b_2\n",
        "\\end{cases}\n",
        "\\implies\n",
        "-12 + 6\\lambda + 6 = \\lambda^2 + \\lambda\n",
        "\\implies\n",
        "\\lambda^2 - 5\\lambda + 6 = 0\n",
        "$"
      ]
    },
    {
      "cell_type": "markdown",
      "metadata": {
        "id": "oQCTEFDmRlCR"
      },
      "source": [
        "$$D = 25 - 24 = 1$$"
      ]
    },
    {
      "cell_type": "markdown",
      "metadata": {
        "id": "0iEzk6QaRlCR"
      },
      "source": [
        "$$\n",
        "\\lambda_1 = \\frac{5 + 1}{2} = 3 \\\\\n",
        "\\lambda_2 = \\frac{5 - 1}{2} = 2\n",
        "$$"
      ]
    },
    {
      "cell_type": "markdown",
      "metadata": {
        "id": "511ZQknJRlCS"
      },
      "source": [
        "Подставим $\\lambda_1$ в исходную систему уравнений\n",
        "$\n",
        "\\begin{cases}\n",
        "(-1 - 3)b_1 - 6b_2 = 0 \\\\\n",
        "2b_1 + (6 - 3)b_2 = 0 \n",
        "\\end{cases}\n",
        "\\implies\n",
        "\\begin{cases}\n",
        "b_1 = -\\frac{3}{2} b_2 \\\\\n",
        "b_1 = -\\frac{3}{2} b_2\n",
        "\\end{cases}\n",
        "\\implies\n",
        "\\begin{pmatrix}\n",
        "b_1 \\\\\n",
        "b_2\n",
        "\\end{pmatrix}\n",
        "=\n",
        "\\begin{pmatrix}\n",
        "3 \\\\\n",
        "-2\n",
        "\\end{pmatrix}\n",
        "$"
      ]
    },
    {
      "cell_type": "markdown",
      "metadata": {
        "id": "IqA2N5EzRlCS"
      },
      "source": [
        "Подставим $\\lambda_2$ в исходную систему уравнений\n",
        "$\n",
        "\\begin{cases}\n",
        "-b_1 - 6b_2 = 2 b_1 \\\\\n",
        "2b_1 + 6b_2 = 2 b_2\n",
        "\\end{cases}\n",
        "\\implies\n",
        "\\begin{cases}\n",
        "b_1 = -2b_2 \\\\\n",
        "b1 = -2b_2\n",
        "\\end{cases}\n",
        "$"
      ]
    },
    {
      "cell_type": "code",
      "execution_count": null,
      "metadata": {
        "id": "kbPT2VLfRlCT",
        "outputId": "fa17506c-c93a-4a82-ae03-a03842e337db"
      },
      "outputs": [
        {
          "name": "stdout",
          "output_type": "stream",
          "text": [
            "Матрица A:\n",
            "[[-1 -6]\n",
            " [ 2  6]]\n",
            "Собственные значения:\n",
            "[2. 3.]\n",
            "Собственные векторы:\n",
            "[[-0.89442719  0.83205029]\n",
            " [ 0.4472136  -0.5547002 ]]\n"
          ]
        }
      ],
      "source": [
        "a = np.array([[-1, -6], [2, 6]])\n",
        "w, v = np.linalg.eig(a)\n",
        "\n",
        "print(f'Матрица A:\\n{a}')\n",
        "print(f'Собственные значения:\\n{w}')\n",
        "print(f'Собственные векторы:\\n{v}')"
      ]
    },
    {
      "cell_type": "markdown",
      "metadata": {
        "id": "TQfdKZUYRlCU"
      },
      "source": [
        "## Задание 2"
      ]
    },
    {
      "cell_type": "markdown",
      "metadata": {
        "id": "yXThYJ8ERlCU"
      },
      "source": [
        "Дан оператор поворота на 180 градусов, задаваемый матрицей \n",
        "\n",
        "$$A=\\begin{pmatrix}\n",
        "-1 & 0\\\\ \n",
        "0 & -1\n",
        "\\end{pmatrix}.$$\n",
        "\n",
        "Показать, что __любой__ вектор является для него собственным."
      ]
    },
    {
      "cell_type": "markdown",
      "metadata": {
        "id": "wSMGhlhcRlCV"
      },
      "source": [
        "### Решение"
      ]
    },
    {
      "cell_type": "markdown",
      "metadata": {
        "id": "k8USSCUiRlCV"
      },
      "source": [
        "$\n",
        "\\begin{pmatrix}\n",
        "-1 & 0\\\\ \n",
        "0 & -1\n",
        "\\end{pmatrix}\n",
        "\\begin{pmatrix}\n",
        "x \\\\ \n",
        "y\n",
        "\\end{pmatrix}\n",
        "=\n",
        "\\lambda\n",
        "\\begin{pmatrix}\n",
        "x \\\\\n",
        "y\n",
        "\\end{pmatrix}\n",
        "$"
      ]
    },
    {
      "cell_type": "markdown",
      "metadata": {
        "id": "a5L4XEkBRlCW"
      },
      "source": [
        "$\n",
        "\\begin{cases}\n",
        "-x = \\lambda x \\\\\n",
        "-y = \\lambda y\n",
        "\\end{cases}\n",
        "\\implies\n",
        "\\lambda = -1\n",
        "$"
      ]
    },
    {
      "cell_type": "markdown",
      "metadata": {
        "id": "PqtdoPZ7RlCW"
      },
      "source": [
        "Любой вектор является __собственным__ для A"
      ]
    },
    {
      "cell_type": "markdown",
      "metadata": {
        "id": "EGsGIPrJRlCX"
      },
      "source": [
        "## Задание 3"
      ]
    },
    {
      "cell_type": "markdown",
      "metadata": {
        "id": "GQGL3w4mRlCX"
      },
      "source": [
        "Пусть линейный оператор задан матрицей\n",
        "\n",
        "$$A=\\begin{pmatrix}\n",
        "1 & 1\\\\ \n",
        "-1 & 3\n",
        "\\end{pmatrix}.$$\n",
        "\n",
        "Установить, является ли вектор $x=(1,1)$ собственным вектором этого линейного оператора."
      ]
    },
    {
      "cell_type": "markdown",
      "metadata": {
        "id": "8Ym4jDGERlCX"
      },
      "source": [
        "### Решение"
      ]
    },
    {
      "cell_type": "markdown",
      "metadata": {
        "id": "Q-o5joH8RlCY"
      },
      "source": [
        "$\n",
        "\\begin{pmatrix}\n",
        "1 & 1\\\\ \n",
        "-1 & 3\n",
        "\\end{pmatrix}\n",
        "\\begin{pmatrix}\n",
        "1 \\\\\n",
        "1\n",
        "\\end{pmatrix}\n",
        "=\n",
        "\\lambda\n",
        "\\begin{pmatrix}\n",
        "1 \\\\\n",
        "1\n",
        "\\end{pmatrix}\n",
        "$"
      ]
    },
    {
      "cell_type": "markdown",
      "metadata": {
        "id": "82dK7c-YRlCY"
      },
      "source": [
        "$\n",
        "\\begin{cases}\n",
        "1 + 1 = \\lambda \\implies \\lambda = 2 \\\\\n",
        "-1 + 3 = \\lambda \\implies \\lambda = 2\n",
        "\\end{cases}\n",
        "$"
      ]
    },
    {
      "cell_type": "markdown",
      "metadata": {
        "id": "5tZVtLjHRlCY"
      },
      "source": [
        "__Да__, является"
      ]
    },
    {
      "cell_type": "markdown",
      "metadata": {
        "id": "qejPywywRlCZ"
      },
      "source": [
        "## Задание 4"
      ]
    },
    {
      "cell_type": "markdown",
      "metadata": {
        "id": "7WkL3z_ORlCZ"
      },
      "source": [
        "Пусть линейный оператор задан матрицей\n",
        "\n",
        "$$A=\\begin{pmatrix}\n",
        "0 & 3 & 0\\\\ \n",
        "3 & 0 & 0\\\\\n",
        "0 & 0 & 3\n",
        "\\end{pmatrix}.$$\n",
        "\n",
        "Установить, является ли вектор $x=(3, -3, -4)$ собственным вектором этого линейного оператора."
      ]
    },
    {
      "cell_type": "markdown",
      "metadata": {
        "id": "QWC9KW5zRlCZ"
      },
      "source": [
        "### Решение"
      ]
    },
    {
      "cell_type": "markdown",
      "metadata": {
        "id": "XK9aJly9RlCa"
      },
      "source": [
        "$\n",
        "\\begin{pmatrix}\n",
        "0 & 3 & 0\\\\ \n",
        "3 & 0 & 0\\\\\n",
        "0 & 0 & 3\n",
        "\\end{pmatrix}\n",
        "\\cdot\n",
        "\\begin{pmatrix}\n",
        "3 \\\\ \n",
        "-3 \\\\\n",
        "-4\n",
        "\\end{pmatrix}\n",
        "= \\lambda\n",
        "\\begin{pmatrix}\n",
        "3 \\\\ \n",
        "-3 \\\\\n",
        "-4\n",
        "\\end{pmatrix}\n",
        "$"
      ]
    },
    {
      "cell_type": "markdown",
      "metadata": {
        "id": "1R4wKD6nRlCa"
      },
      "source": [
        "$\n",
        "\\begin{cases}\n",
        "-9 = 3\\lambda \\implies \\lambda = -3 \\\\\n",
        "9 = -3\\lambda \\implies \\lambda = -3 \\\\\n",
        "-12 = -4\\lambda \\implies \\lambda = 3\n",
        "\\end{cases}\n",
        "$"
      ]
    },
    {
      "cell_type": "markdown",
      "metadata": {
        "id": "gSx74kb6RlCa"
      },
      "source": [
        "Вектор __не является__ собственным вектором этого линейного оператора"
      ]
    }
  ],
  "metadata": {
    "kernelspec": {
      "display_name": "Python 3",
      "language": "python",
      "name": "python3"
    },
    "language_info": {
      "codemirror_mode": {
        "name": "ipython",
        "version": 3
      },
      "file_extension": ".py",
      "mimetype": "text/x-python",
      "name": "python",
      "nbconvert_exporter": "python",
      "pygments_lexer": "ipython3",
      "version": "3.7.3"
    },
    "colab": {
      "name": "Копия блокнота \"homework3.ipynb\"",
      "provenance": []
    }
  },
  "nbformat": 4,
  "nbformat_minor": 0
}