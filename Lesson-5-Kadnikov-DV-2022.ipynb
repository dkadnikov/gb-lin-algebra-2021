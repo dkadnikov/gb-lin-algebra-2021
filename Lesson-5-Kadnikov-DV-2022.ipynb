{
  "cells": [
    {
      "cell_type": "markdown",
      "metadata": {
        "id": "BxhsPGal7mSw"
      },
      "source": [
        "# Задание 1"
      ]
    },
    {
      "cell_type": "markdown",
      "metadata": {
        "id": "fEV_uRbg7mS0"
      },
      "source": [
        "Найти с помощью NumPy SVD для матрицы\n",
        "\n",
        "$$\\begin{pmatrix}\n",
        "1 & 2 & 0\\\\ \n",
        "0 & 0 & 5\\\\ \n",
        "3 & -4 & 2\\\\ \n",
        "1 & 6 & 5\\\\ \n",
        "0 & 1 & 0\n",
        "\\end{pmatrix}.$$"
      ]
    },
    {
      "cell_type": "markdown",
      "metadata": {
        "id": "1rJaTBPE7mS1"
      },
      "source": [
        "### Решение"
      ]
    },
    {
      "cell_type": "code",
      "execution_count": null,
      "metadata": {
        "id": "WUecJ_3U7mS2",
        "outputId": "c27f91ab-5290-45a3-ed5d-5b94cabe1cf1"
      },
      "outputs": [
        {
          "data": {
            "text/plain": [
              "(array([[ 0.17056501,  0.15680918, -0.53077508, -0.79905375, -0.16158397],\n",
              "        [ 0.39287016, -0.52933945,  0.6134793 , -0.43375771,  0.03082495],\n",
              "        [-0.14366152, -0.82449256, -0.52379105,  0.14049848,  0.07400343],\n",
              "        [ 0.88843702,  0.06074346, -0.24655277,  0.37755832, -0.06042632],\n",
              "        [ 0.08125046,  0.10831843, -0.08231425, -0.10524851,  0.98173958]]),\n",
              " array([8.82486885, 6.14060608, 2.53271528]),\n",
              " array([[ 0.07116451, -0.36737824, -0.92734505],\n",
              "        [ 0.71702467,  0.66514082, -0.20847855],\n",
              "        [ 0.69340553, -0.65009301,  0.31075368]]))"
            ]
          },
          "execution_count": 1,
          "metadata": {},
          "output_type": "execute_result"
        }
      ],
      "source": [
        "import numpy as np\n",
        "A = np.array([[1, 2, 0], [0, 0, 5], [3, -4, 2], [1, 6, 5], [0, 1, 0]])\n",
        "U, s, W = np.linalg.svd(A)\n",
        "U, s, W.T"
      ]
    },
    {
      "cell_type": "markdown",
      "metadata": {
        "id": "0zPtXfzw7mTk"
      },
      "source": [
        "## Задание 2"
      ]
    },
    {
      "cell_type": "markdown",
      "metadata": {
        "id": "IZn31_yr7mTk"
      },
      "source": [
        "Для матрицы из предыдущего задания найти:\n",
        "\n",
        "а) евклидову норму,\n",
        "    \n",
        "б) норму Фробениуса."
      ]
    },
    {
      "cell_type": "markdown",
      "metadata": {
        "id": "pg-eVBti7mTl"
      },
      "source": [
        "### Решение"
      ]
    },
    {
      "cell_type": "code",
      "execution_count": null,
      "metadata": {
        "scrolled": true,
        "id": "0ir7TxmT7mTl",
        "outputId": "70ecfd0b-85a4-44f3-ebe7-acce874faac4"
      },
      "outputs": [
        {
          "data": {
            "text/plain": [
              "array([[8.82486885, 0.        , 0.        ],\n",
              "       [0.        , 6.14060608, 0.        ],\n",
              "       [0.        , 0.        , 2.53271528],\n",
              "       [0.        , 0.        , 0.        ],\n",
              "       [0.        , 0.        , 0.        ]])"
            ]
          },
          "execution_count": 2,
          "metadata": {},
          "output_type": "execute_result"
        }
      ],
      "source": [
        "D = np.zeros_like(A, dtype=float)\n",
        "D[np.diag_indices(min(A.shape))] = s\n",
        "D"
      ]
    },
    {
      "cell_type": "code",
      "execution_count": null,
      "metadata": {
        "id": "YB62me8F7mTm",
        "outputId": "2957b146-10dd-487c-a88d-33cb55e5f78a"
      },
      "outputs": [
        {
          "data": {
            "text/plain": [
              "8.824868854820448"
            ]
          },
          "execution_count": 3,
          "metadata": {},
          "output_type": "execute_result"
        }
      ],
      "source": [
        "# Евклидова норма\n",
        "A_e = D[0][0]\n",
        "A_e"
      ]
    },
    {
      "cell_type": "code",
      "execution_count": null,
      "metadata": {
        "id": "qlDUo38s7mTn",
        "outputId": "a77b0ff5-da6f-4c33-ef3b-90b003bcaf62"
      },
      "outputs": [
        {
          "data": {
            "text/plain": [
              "(11.045361017187265, 11.045361017187265)"
            ]
          },
          "execution_count": 2,
          "metadata": {},
          "output_type": "execute_result"
        }
      ],
      "source": [
        "# Норма Фробениуса\n",
        "sum = 0\n",
        "for i in s:\n",
        "    sum += i**2\n",
        "A_f = sum**0.5\n",
        "A_f, np.linalg.norm(s)"
      ]
    }
  ],
  "metadata": {
    "kernelspec": {
      "display_name": "Python 3",
      "language": "python",
      "name": "python3"
    },
    "language_info": {
      "codemirror_mode": {
        "name": "ipython",
        "version": 3
      },
      "file_extension": ".py",
      "mimetype": "text/x-python",
      "name": "python",
      "nbconvert_exporter": "python",
      "pygments_lexer": "ipython3",
      "version": "3.8.2"
    },
    "colab": {
      "name": "homework5.ipynb",
      "provenance": []
    }
  },
  "nbformat": 4,
  "nbformat_minor": 0
}