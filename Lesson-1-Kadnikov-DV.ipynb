{
 "cells": [
  {
   "cell_type": "markdown",
   "id": "3155efc3",
   "metadata": {},
   "source": [
    "### Урок 1. Линейное пространство"
   ]
  },
  {
   "cell_type": "markdown",
   "id": "f4043e21",
   "metadata": {},
   "source": [
    "### Часть 1:"
   ]
  },
  {
   "cell_type": "markdown",
   "id": "8dab855a",
   "metadata": {},
   "source": [
    "#### 1. Исследовать на линейную зависимость:<br>\n",
    "$$f_{1}(x)=e^{x}, f_{2}(x)=1, f_{3}(x)=x+1, f_{4}(x)=x-e^{x}.$$<br>"
   ]
  },
  {
   "cell_type": "markdown",
   "id": "85c7de64",
   "metadata": {},
   "source": [
    "#### Решение:\n",
    "Выражаем одну функцию через другую и получаем:<br>\n",
    "$$f_{4}(x)=f_{3}(x)-f_{2}(x)-f_{1}(x)$$<br> "
   ]
  },
  {
   "cell_type": "markdown",
   "id": "b34045ea",
   "metadata": {},
   "source": [
    "#### 2. Исследовать на линейную зависимость:<br>\n",
    "$$f_{1}(x)=2, f_{2}(x)=x, f_{3}(x)=x^{2}, f_{4}(x)=(x+1)^{2}.$$<br>"
   ]
  },
  {
   "cell_type": "markdown",
   "id": "614b1007",
   "metadata": {},
   "source": [
    "#### Решение:\n",
    "Так же как в первом задании:<br>\n",
    "$$f_{4}(x)=f_{3}(x)+2f_{2}(x)+0.5f_{1}(x)$$<br>\n",
    "В первом и втором задании получили линейную зависимость.<br>"
   ]
  },
  {
   "cell_type": "markdown",
   "id": "06273217",
   "metadata": {},
   "source": [
    "#### 3. Найти координаты вектора $x = (2, 3, 5)\\in \\mathbb{R}^{3}$ в базисе $b_{1}=(0, 0, 10)$, $b_{2}=(2, 0, 0)$, $b_{3}=(0, 1, 0)$.<br>"
   ]
  },
  {
   "cell_type": "markdown",
   "id": "3f80931b",
   "metadata": {},
   "source": [
    "#### Решение:\n",
    "\n",
    "$x = (2, 3, 5) = (2,0,0) + (0,3,0) + (0,0,5) = 1 * (2,0,0) + 3 * (0,1,0) + 0.5 * (0,0,10) = 0.5b_{1} + 1*b_{2} + 3*b_{3} = (0.5, 1, 3)$<br>"
   ]
  },
  {
   "cell_type": "markdown",
   "id": "3b5ada9d",
   "metadata": {},
   "source": [
    "#### 4. Найти координаты вектора $3x^{2}-2x+2\\in\\mathbb{R}^{3}[x]$:<br>\n",
    "а) в базисе $1$, $x$, $x^{2}$;<br>\n",
    "б) в базисе $x^{2}$, $x-1$, $1$.<br>"
   ]
  },
  {
   "cell_type": "markdown",
   "id": "881dd3d8",
   "metadata": {},
   "source": [
    "#### Решение:<br>\n",
    "Для базиса $1$, $x$, $x^{2}$ координаты $(2, -2, 3)$<br>\n",
    "Для базиса $x^{2}$, $x-1$, $1$ приведем вектор к нужному виду: $3x^{2}-2x+2 = 3x^{2} - 2(x-1)$<br>\n",
    "тогда координаты для базиса $x^{2}$, $x-1$, $1$ будут $(3, -2, 0)$<br>"
   ]
  },
  {
   "cell_type": "markdown",
   "id": "ad420796",
   "metadata": {},
   "source": [
    "#### 5. Установить, является ли линейным подпространством:<br>\n",
    "а) совокупность всех векторов трехмерного пространства, у которых по крайней мере одна из первых двух координат равна нулю;<br>\n",
    "б) все векторы, являющиеся линейными комбинациями данных векторов $\\{u_{1}, u_{2}, \\ldots, u_{n}\\}$.<br>\n"
   ]
  },
  {
   "cell_type": "markdown",
   "id": "d8b6e988",
   "metadata": {},
   "source": [
    "#### Решение:\n",
    "а) Возьмем два вектора для примера $a=(0, a2, a3)$ и $b=(b1, 0, b3)$<br>\n",
    "Сумма данных векторов $a+b=(b1, a2, a3+b3)$.<br>\n",
    "Ни одна из двух первых координат не равна нулю, следовательно совокупность векторов не является линейным подпространством.<br>\n",
    "б) Возьмем два вектора для примера $a=3u_{1} + 5u_{2} + 7u_{3}$ и $b=2u_{4} + 6u_{5} + 8u_{6}$<br>\n",
    "Сумма данных векторов $a+b=(3u_{1}+5u_{2}+7u_{3}+2u_{4}+6u_{5}+8u_{6})$<br>\n",
    "Умножение на скаляр вектора a: $K=3$, $K*a=9u_{1}+15u_{2}+21u_{3}$<br>\n",
    "Следовательно, совокупность векторов является линейным подпространством.<br>"
   ]
  },
  {
   "cell_type": "markdown",
   "id": "cd9ac331",
   "metadata": {},
   "source": [
    "### Часть 2:"
   ]
  },
  {
   "cell_type": "code",
   "execution_count": 1,
   "id": "55355b53",
   "metadata": {},
   "outputs": [],
   "source": [
    "import numpy as np\n",
    "from math import sqrt, acos, pi, degrees"
   ]
  },
  {
   "cell_type": "markdown",
   "id": "19cca9b6",
   "metadata": {},
   "source": [
    "#### 1. Найти скалярное произведение векторов 𝑥,𝑦∈ℝ :<br>\n",
    "а) 𝑥=(0,−3,6), 𝑦=(−4,7,9);<br>\n",
    "б) 𝑥=(7,−4,0,1), 𝑦=(−3,1,11,2).<br>"
   ]
  },
  {
   "cell_type": "code",
   "execution_count": 5,
   "id": "d684f530",
   "metadata": {},
   "outputs": [
    {
     "name": "stdout",
     "output_type": "stream",
     "text": [
      "Ответ a) <x,y> = 33\n",
      "Ответ б) <x,y> = -23\n"
     ]
    }
   ],
   "source": [
    "x = np.array([0, -3, 6])\n",
    "y = np.array([-4, 7, 9])\n",
    "print('Ответ a) 'f'<x,y> = {x.dot(y)}')\n",
    "x = np.array([7, -4, 0, 1])\n",
    "y = np.array([-3, 1, 11, 2])\n",
    "print('Ответ б) 'f'<x,y> = {x.dot(y)}')"
   ]
  },
  {
   "cell_type": "markdown",
   "id": "95243853",
   "metadata": {},
   "source": [
    "#### 2. Найти нормы векторов (4,2,4) и (12,3,4) и угол между ними."
   ]
  },
  {
   "cell_type": "code",
   "execution_count": 6,
   "id": "d35619db",
   "metadata": {},
   "outputs": [
    {
     "data": {
      "text/plain": [
       "67.11461952384143"
      ]
     },
     "execution_count": 6,
     "metadata": {},
     "output_type": "execute_result"
    }
   ],
   "source": [
    "x = np.array([4,2,4])\n",
    "y = np.array([12,3,4])\n",
    "degrees(acos(x.dot(y)/(6*30)))"
   ]
  },
  {
   "cell_type": "markdown",
   "id": "5b27328d",
   "metadata": {},
   "source": [
    "#### 3. Будет ли линейное пространство евклидовым, если за скалярное произведение принять:<br>\n",
    "а) произведение длин векторов;<br>\n",
    "б) утроенное обычное скалярное произведение векторов?<br>"
   ]
  },
  {
   "cell_type": "markdown",
   "id": "538e0cee",
   "metadata": {},
   "source": [
    "#### Ответ:"
   ]
  },
  {
   "cell_type": "markdown",
   "id": "8c8431c7",
   "metadata": {},
   "source": [
    "a) Да, поскольку все 4 аксиомы выполняются<br>\n",
    "б) Да, поскольку все 4 аксиомы выполняются<br>\n"
   ]
  },
  {
   "cell_type": "markdown",
   "id": "d545fa00",
   "metadata": {},
   "source": [
    "#### 4. Какие из нижеперечисленных векторов образуют ортонормированный базис в линейном пространстве ℝ3 :<BR>\n",
    "а) (1,0,0),(0,0,1);<BR>\n",
    "б)  $(1/\\sqrt2,−1/\\sqrt2,0),(1/\\sqrt2,1/\\sqrt2,0),(0,0,1)$;<BR>\n",
    "в) (1/2,−1/2,0),(0,1/2,1/2),(0,0,1);<BR>\n",
    "г) (1,0,0),(0,1,0),(0,0,1)?<BR>\n"
   ]
  },
  {
   "cell_type": "markdown",
   "id": "2cc9bea2",
   "metadata": {},
   "source": [
    "#### Ответ:<br>\n",
    "\n",
    "г) т.к. только в варианте \"Г\" базис составляют единичные ортоногальные векторы и их число соответствует размерности пространства<br>"
   ]
  },
  {
   "cell_type": "code",
   "execution_count": null,
   "id": "aeacdaab",
   "metadata": {},
   "outputs": [],
   "source": []
  }
 ],
 "metadata": {
  "kernelspec": {
   "display_name": "Python 3",
   "language": "python",
   "name": "python3"
  },
  "language_info": {
   "codemirror_mode": {
    "name": "ipython",
    "version": 3
   },
   "file_extension": ".py",
   "mimetype": "text/x-python",
   "name": "python",
   "nbconvert_exporter": "python",
   "pygments_lexer": "ipython3",
   "version": "3.8.8"
  }
 },
 "nbformat": 4,
 "nbformat_minor": 5
}
